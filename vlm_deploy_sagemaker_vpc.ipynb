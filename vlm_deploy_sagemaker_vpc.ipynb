{
 "cells": [
  {
   "cell_type": "markdown",
   "metadata": {},
   "source": [
    "# VLM VPC 部署 - SageMaker Endpoint (生产推荐）\n",
    "\n",
    "本notebook在VPC中部署VLM端点，提供企业级安全性。\n",
    "\n",
    "## VPC部署优势\n",
    "- 网络隔离和安全控制\n",
    "- 降低延迟，提升性能\n",
    "- 满足合规要求\n",
    "\n",
    "## 前置要求\n",
    "- VPC、私有子网(至少2个AZ)、安全组\n",
    "- VPC端点(S3、SageMaker等)\n",
    "- ml.g6e实例配额"
   ]
  },
  {
   "cell_type": "markdown",
   "metadata": {},
   "source": [
    "## 1: 环境准备\n",
    "\n",
    "安装必要的依赖包并初始化SageMaker环境"
   ]
  },
  {
   "cell_type": "code",
   "execution_count": null,
   "metadata": {},
   "outputs": [],
   "source": [
    "# 检查是否安装了依赖\n",
    "!pip list | grep -E \"(boto3|sagemaker|huggingface_hub|transformers)\""
   ]
  },
  {
   "cell_type": "code",
   "execution_count": null,
   "metadata": {},
   "outputs": [],
   "source": [
    "# 按需安装缺失的的依赖，例如：\n",
    "!pip install boto3 sagemaker -q"
   ]
  },
  {
   "cell_type": "code",
   "execution_count": null,
   "metadata": {},
   "outputs": [],
   "source": [
    "import os\n",
    "import tarfile\n",
    "import json\n",
    "import base64\n",
    "import boto3, sagemaker\n",
    "from sagemaker import Model\n",
    "from datetime import datetime\n",
    "\n",
    "sess = sagemaker.Session()\n",
    "role = sagemaker.get_execution_role()\n",
    "region = sess._region_name\n",
    "bucket = sess.default_bucket()\n",
    "\n",
    "print(f\"Region: {region}, Role: {role}\")\n",
    "print(f\"Default bucket: {bucket}\")"
   ]
  },
  {
   "cell_type": "markdown",
   "metadata": {},
   "source": [
    "## 2: 参数配置\n",
    "\n",
    "配置模型路径、实例类型和VPC资源参数 **(请修改VPC配置)**"
   ]
  },
  {
   "cell_type": "code",
   "execution_count": null,
   "metadata": {},
   "outputs": [],
   "source": [
    "# 配置参数 - 请修改为你的实际值\n",
    "MODEL_S3_PATH = \"s3://your-bucket/models/qwen2-5-vl-7b/\"\n",
    "INSTANCE_TYPE = \"ml.g6e.2xlarge\"\n",
    "INITIAL_INSTANCE_COUNT = 2\n",
    "MODEL_NAME = \"qwen2-5-vl-7b\"\n",
    "\n",
    "# VPC配置 - 必须修改\n",
    "VPC_SECURITY_GROUP_IDS = ['sg-xxxxxxxxx']  # 你的安全组ID\n",
    "VPC_SUBNET_IDS = ['subnet-xxxxxxxx', 'subnet-yyyyyyyy']  # 你的私有子网ID\n",
    "\n",
    "# 扩缩容配置\n",
    "MIN_CAPACITY = 2\n",
    "MAX_CAPACITY = 10\n",
    "TARGET_INVOCATIONS_PER_INSTANCE = 60  # 每实例每分钟调用数目标值\n",
    "TARGET_GPU_UTILIZATION = 70.0  # 目标GPU利用率\n",
    "TARGET_GPU_MEM_UTILIZATION = 85.0  # 目标GPU显存利用率\n",
    "\n",
    "print(f\"模型: {MODEL_S3_PATH}\")\n",
    "print(f\"VPC安全组: {VPC_SECURITY_GROUP_IDS}\")\n",
    "print(f\"VPC子网: {VPC_SUBNET_IDS}\")"
   ]
  },
  {
   "cell_type": "markdown",
   "metadata": {},
   "source": [
    "## 3: VPC资源验证\n",
    "\n",
    "检查安全组和子网配置是否正确"
   ]
  },
  {
   "cell_type": "code",
   "execution_count": null,
   "metadata": {},
   "outputs": [],
   "source": [
    "# 验证VPC资源\n",
    "ec2_client = boto3.client('ec2', region_name=region)\n",
    "\n",
    "try:\n",
    "    # 检查安全组\n",
    "    sg_response = ec2_client.describe_security_groups(GroupIds=VPC_SECURITY_GROUP_IDS)\n",
    "    print(f\"✅ 安全组验证通过: {len(sg_response['SecurityGroups'])}个\")\n",
    "    \n",
    "    # 检查子网\n",
    "    subnet_response = ec2_client.describe_subnets(SubnetIds=VPC_SUBNET_IDS)\n",
    "    azs = {s['AvailabilityZone'] for s in subnet_response['Subnets']}\n",
    "    print(f\"✅ 子网验证通过: {len(azs)}个AZ - {azs}\")\n",
    "    \n",
    "    if len(azs) < 2:\n",
    "        print(\"⚠️  建议使用至少2个不同AZ的子网\")\n",
    "        \n",
    "except Exception as e:\n",
    "    print(f\"❌ VPC资源验证失败: {e}\")\n",
    "    print(\"请检查VPC_SECURITY_GROUP_IDS和VPC_SUBNET_IDS配置\")"
   ]
  },
  {
   "cell_type": "markdown",
   "metadata": {},
   "source": [
    "## 4: 创建LMI配置\n",
    "\n",
    "生成serving.properties配置文件并打包"
   ]
  },
  {
   "cell_type": "code",
   "execution_count": null,
   "metadata": {},
   "outputs": [],
   "source": [
    "# 创建LMI配置\n",
    "!rm -rf lmi_config\n",
    "os.makedirs(\"lmi_config\", exist_ok=True)\n",
    "\n",
    "serving_config = f\"\"\"engine=Python\n",
    "option.model_id={MODEL_S3_PATH}\n",
    "option.dtype=fp16\n",
    "option.rolling_batch=vllm\n",
    "option.tensor_parallel_degree=1\n",
    "option.device_map=auto\n",
    "option.max_model_len=4096\n",
    "option.max_rolling_batch_size=32\n",
    "option.use_v2_block_manager=true\n",
    "option.enable_streaming=false\n",
    "\"\"\"\n",
    "\n",
    "with open(\"lmi_config/serving.properties\", \"w\") as f:\n",
    "    f.write(serving_config)\n",
    "\n",
    "with tarfile.open(\"lmi_config.tar.gz\", \"w:gz\") as tar:\n",
    "    tar.add(\"lmi_config\", arcname=\"lmi_config\")\n",
    "\n",
    "print(\"✅ LMI配置已创建\")"
   ]
  },
  {
   "cell_type": "markdown",
   "metadata": {},
   "source": [
    "## 5: VPC端点部署\n",
    "\n",
    "部署端点到私有VPC网络"
   ]
  },
  {
   "cell_type": "code",
   "execution_count": null,
   "metadata": {},
   "outputs": [],
   "source": [
    "# VPC端点部署\n",
    "image_uri = f\"763104351884.dkr.ecr.{region}.amazonaws.com/djl-inference:0.33.0-lmi15.0.0-cu128\"\n",
    "code_artifact = sess.upload_data(\"lmi_config.tar.gz\", bucket, \"large-model-lmi/code\")\n",
    "\n",
    "# 创建VPC配置\n",
    "vpc_config = {\n",
    "    'SecurityGroupIds': VPC_SECURITY_GROUP_IDS,\n",
    "    'Subnets': VPC_SUBNET_IDS\n",
    "}\n",
    "\n",
    "# 创建并部署模型\n",
    "model = Model(image_uri=image_uri, model_data=code_artifact, role=role, vpc_config=vpc_config)\n",
    "endpoint_name = f\"vlm-{MODEL_NAME}-vpc-{datetime.now().strftime('%Y-%m-%d-%H-%M-%S')}\"\n",
    "\n",
    "print(f\"🚀 开始VPC端点部署: {endpoint_name}\")\n",
    "predictor = model.deploy(\n",
    "    initial_instance_count=INITIAL_INSTANCE_COUNT,\n",
    "    instance_type=INSTANCE_TYPE,\n",
    "    endpoint_name=endpoint_name,\n",
    "    wait=False\n",
    ")\n",
    "\n",
    "print(f\"✅ VPC端点部署已启动，预计15-20分钟\")\n",
    "with open(\"endpoint_name.save\", \"w\") as f:\n",
    "    f.write(endpoint_name)"
   ]
  },
  {
   "cell_type": "markdown",
   "metadata": {},
   "source": [
    "## 6: 等待端点就绪\n",
    "\n",
    "监控部署状态直到服务可用"
   ]
  },
  {
   "cell_type": "code",
   "execution_count": null,
   "metadata": {},
   "outputs": [],
   "source": [
    "# 等待端点就绪\n",
    "import time\n",
    "sm_client = boto3.client('sagemaker', region_name=region)\n",
    "\n",
    "def check_endpoint_status(name):\n",
    "    try:\n",
    "        return sm_client.describe_endpoint(EndpointName=name)['EndpointStatus']\n",
    "    except:\n",
    "        return \"Unknown\"\n",
    "\n",
    "print(f\"等待VPC端点就绪: {endpoint_name}\")\n",
    "start_time = time.time()\n",
    "\n",
    "while True:\n",
    "    status = check_endpoint_status(endpoint_name)\n",
    "    elapsed = int(time.time() - start_time)\n",
    "    \n",
    "    print(f\"\\r⏱️  {elapsed//60:02d}:{elapsed%60:02d} - 状态: {status}\", end=\"\", flush=True)\n",
    "    \n",
    "    if status == \"InService\":\n",
    "        print(f\"\\n\\n✅ VPC端点已就绪! 耗时: {elapsed//60}分{elapsed%60}秒\")\n",
    "        break\n",
    "    elif status in [\"Failed\", \"OutOfService\"]:\n",
    "        print(f\"\\n\\n❌ 部署失败: {status}\")\n",
    "        break\n",
    "    \n",
    "    time.sleep(30)\n",
    "    if elapsed > 2400:  # 40分钟超时\n",
    "        print(f\"\\n\\n⚠️  部署超时\")\n",
    "        break"
   ]
  },
  {
   "cell_type": "markdown",
   "metadata": {},
   "source": [
    "## 7: 配置弹性扩缩容\n",
    "\n",
    "**仅在端点状态为 InService 时执行此步骤！**"
   ]
  },
  {
   "cell_type": "code",
   "execution_count": null,
   "metadata": {},
   "outputs": [],
   "source": [
    "# 创建Auto Scaling客户端\n",
    "autoscaling_client = boto3.client('application-autoscaling', region_name=region)\n",
    "\n",
    "# 注册扩缩容目标\n",
    "print(\"注册扩缩容目标...\")\n",
    "try:\n",
    "    autoscaling_client.register_scalable_target(\n",
    "        ServiceNamespace='sagemaker',\n",
    "        ResourceId=f'endpoint/{endpoint_name}/variant/AllTraffic',\n",
    "        ScalableDimension='sagemaker:variant:DesiredInstanceCount',\n",
    "        MinCapacity=MIN_CAPACITY,\n",
    "        MaxCapacity=MAX_CAPACITY\n",
    "    )\n",
    "    print(f\"✅ 扩缩容目标已注册: {MIN_CAPACITY}-{MAX_CAPACITY}个实例\")\n",
    "except Exception as e:\n",
    "    print(f\"❌ 注册扩缩容目标失败: {e}\")"
   ]
  },
  {
   "cell_type": "code",
   "execution_count": null,
   "metadata": {},
   "outputs": [],
   "source": [
    "# 创建扩缩容策略\n",
    "print(\"创建扩缩容策略...\")\n",
    "try:\n",
    "    autoscaling_client.put_scaling_policy(\n",
    "        PolicyName=f'vlm-scaling-policy-{MODEL_NAME}',\n",
    "        ServiceNamespace='sagemaker',\n",
    "        ResourceId=f'endpoint/{endpoint_name}/variant/AllTraffic',\n",
    "        ScalableDimension='sagemaker:variant:DesiredInstanceCount',\n",
    "        PolicyType='TargetTrackingScaling',\n",
    "        TargetTrackingScalingPolicyConfiguration={\n",
    "            'TargetValue': TARGET_INVOCATIONS_PER_INSTANCE,\n",
    "            'PredefinedMetricSpecification': {\n",
    "                'PredefinedMetricType': 'SageMakerVariantInvocationsPerInstance'\n",
    "            },\n",
    "            'ScaleOutCooldown': 180,  # 3分钟快速扩容\n",
    "            'ScaleInCooldown': 300    # 5分钟谨慎缩容\n",
    "        }\n",
    "    )\n",
    "    print(f\"✅ 扩缩容策略已创建\")\n",
    "    print(f\"   监控指标: 每实例调用数\")\n",
    "    print(f\"   目标阈值: {TARGET_INVOCATIONS_PER_INSTANCE}次/实例/分钟\")\n",
    "    print(f\"   扩容冷却: 3分钟\")\n",
    "    print(f\"   缩容冷却: 5分钟\")\n",
    "except Exception as e:\n",
    "    print(f\"❌ 创建扩缩容策略失败: {e}\")"
   ]
  },
  {
   "cell_type": "markdown",
   "metadata": {},
   "source": [
    "## 8: 推理测试\n",
    "\n",
    "验证VPC端点功能"
   ]
  },
  {
   "cell_type": "code",
   "execution_count": null,
   "metadata": {},
   "outputs": [],
   "source": [
    "# 推理测试\n",
    "smr_client = boto3.client(\"sagemaker-runtime\", region_name=region)\n",
    "\n",
    "def call_vpc_endpoint(text_prompt, max_tokens=512):\n",
    "    prompt = {\n",
    "        \"messages\": [\n",
    "            {\"role\": \"system\", \"content\": \"You are a helpful assistant.\"},\n",
    "            {\"role\": \"user\", \"content\": [{\"type\": \"text\", \"text\": text_prompt}]}\n",
    "        ],\n",
    "        \"temperature\": 0.0,\n",
    "        \"max_tokens\": max_tokens\n",
    "    }\n",
    "    \n",
    "    try:\n",
    "        response = smr_client.invoke_endpoint(\n",
    "            EndpointName=endpoint_name,\n",
    "            ContentType=\"application/json\",\n",
    "            Body=json.dumps(prompt)\n",
    "        )\n",
    "        result = json.loads(response[\"Body\"].read().decode(\"utf-8\"))\n",
    "        return result[\"choices\"][0][\"message\"][\"content\"]\n",
    "    except Exception as e:\n",
    "        return f\"调用失败: {e}\"\n",
    "\n",
    "# 测试VPC端点\n",
    "print(\"测试VPC端点推理...\")\n",
    "test_prompt = \"请简单介绍VPC的作用\"\n",
    "print(f\"\\n问题: {test_prompt}\")\n",
    "result = call_vpc_endpoint(test_prompt)\n",
    "print(f\"回答: {result}\")"
   ]
  },
  {
   "cell_type": "markdown",
   "metadata": {},
   "source": [
    "## 9: 部署总结\n",
    "\n",
    "显示完整的部署配置信息"
   ]
  },
  {
   "cell_type": "code",
   "execution_count": null,
   "metadata": {},
   "outputs": [],
   "source": [
    "# 部署总结\n",
    "print(\"🎉 VLM VPC生产级部署完成!\")\n",
    "print(f\"\\n📋 部署信息:\")\n",
    "print(f\"   端点名称: {endpoint_name}\")\n",
    "print(f\"   实例类型: {INSTANCE_TYPE}\")\n",
    "print(f\"   实例数量: {INITIAL_INSTANCE_COUNT} (可扩展至{MAX_CAPACITY})\")\n",
    "print(f\"   VPC安全组: {VPC_SECURITY_GROUP_IDS}\")\n",
    "print(f\"   VPC子网: {VPC_SUBNET_IDS}\")\n",
    "\n",
    "print(f\"\\n🔒 VPC安全特性:\")\n",
    "print(f\"   ✅ 网络隔离 - 私有网络部署\")\n",
    "print(f\"   ✅ 安全组控制 - 精确访问控制\")\n",
    "print(f\"   ✅ 多AZ部署 - 高可用性\")\n",
    "\n",
    "print(f\"\\n📊 监控建议:\")\n",
    "print(f\"   - CloudWatch: GPUUtilization, ModelLatency\")\n",
    "print(f\"   - VPC Flow Logs: 网络流量监控\")\n",
    "print(f\"   - 成本监控: 考虑SageMaker Savings Plans\")\n",
    "\n",
    "print(f\"\\n🔗 控制台链接:\")\n",
    "print(f\"   SageMaker: https://console.aws.amazon.com/sagemaker/home?region={region}#/endpoints/{endpoint_name}\")\n",
    "print(f\"   VPC: https://console.aws.amazon.com/vpc/home?region={region}\")\n",
    "\n",
    "print(f\"\\n⚠️  生产提醒:\")\n",
    "print(f\"   - 定期审查安全组规则\")\n",
    "print(f\"   - 监控VPC端点使用量\")\n",
    "print(f\"   - 配置适当的备份和恢复策略\")"
   ]
  }
 ],
 "metadata": {
  "kernelspec": {
   "display_name": "conda_pytorch_p310",
   "language": "python",
   "name": "conda_pytorch_p310"
  },
  "language_info": {
   "codemirror_mode": {
    "name": "ipython",
    "version": 3
   },
   "file_extension": ".py",
   "mimetype": "text/x-python",
   "name": "python",
   "nbconvert_exporter": "python",
   "pygments_lexer": "ipython3",
   "version": "3.10.14"
  }
 },
 "nbformat": 4,
 "nbformat_minor": 4
}
